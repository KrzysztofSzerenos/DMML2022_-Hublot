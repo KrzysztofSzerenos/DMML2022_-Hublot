{
  "cells": [
    {
      "cell_type": "markdown",
      "metadata": {
        "id": "5DTn9ZW86zo3"
      },
      "source": [
        "#1 HYPERPARAMETER OPTIMALIZATION FOR THE UNCLEANED DATA \n",
        "* Which is the best model?\n",
        "* Show the confusion matrix.\n",
        "* Show examples of some erroneous predictions. \n",
        "* Can you understand where the error is coming from?\n",
        "* Do some more analysis to better understand how your model behaves.\n",
        "\n",
        "#<table>\n",
        "  <tr>\n",
        "    <th>  </th>\n",
        "    <th> Logistic regression </th>\n",
        "    <th> kNN </th>\n",
        "    <th> Decision Tree </th>\n",
        "    <th> Random Forests </th>\n",
        "    <th> Any other technique </th>\n",
        "  </tr>\n",
        "  <tr>\n",
        "    <td> Baseline </td>\n",
        "    <td> 0.1694 </td>\n",
        "    <td> 0.1694 </td>\n",
        "    <td> 0.1694 </td>\n",
        "    <td> 0.1694 </td>\n",
        "    <td> 0 </td>\n",
        "  </tr>\n",
        "  <tr>\n",
        "    <td> Precision </td>\n",
        "    <td> 0.4664 </td>\n",
        "    <td> 0.2972 </td>\n",
        "    <td> 0.3226 </td>\n",
        "    <td> 0.4149 </td>\n",
        "    <td> 0 </td>\n",
        "  </tr>\n",
        "  <tr>\n",
        "    <td> Recall </td>\n",
        "    <td> 0.4594 </td>\n",
        "    <td> 0.2031 </td>\n",
        "    <td> 0.3240 </td>\n",
        "    <td> 0.3906 </td>\n",
        "    <td> 0 </td>\n",
        "  </tr>\n",
        "  <tr>\n",
        "    <td> F1-score </td>\n",
        "    <td> 0.4557 </td>\n",
        "    <td> 0.1183 </td>\n",
        "    <td> 0.3135 </td>\n",
        "    <td> 0.3735 </td>\n",
        "    <td> 0 </td>\n",
        "  </tr>\n",
        "  <tr>\n",
        "    <td> Accuracy </td>\n",
        "    <td> 0.4594 </td>\n",
        "    <td> 0.2031 </td>\n",
        "    <td> 0.3240 </td>\n",
        "    <td> 0.3906 </td>\n",
        "    <td> 0 </td>\n",
        "  </tr>\n",
        "</table>\n"
      ]
    },
    {
      "cell_type": "code",
      "execution_count": null,
      "metadata": {
        "id": "UGvx9yWGHNN2"
      },
      "outputs": [],
      "source": [
        "import pandas as pd\n",
        "import numpy as np\n",
        "import matplotlib.pyplot as plt\n",
        "import seaborn as sns\n",
        "%matplotlib inline\n",
        "sns.set_style(\"whitegrid\")\n",
        "#import nltk\n",
        "#nltk.download('all')"
      ]
    },
    {
      "cell_type": "code",
      "execution_count": null,
      "metadata": {
        "colab": {
          "base_uri": "https://localhost:8080/",
          "height": 204
        },
        "id": "wJvCp50VBE6Q",
        "outputId": "337f7826-dff8-4424-bae0-c34db95298bb"
      },
      "outputs": [
        {
          "output_type": "execute_result",
          "data": {
            "text/plain": [
              "   id                       sentence difficulty\n",
              "0   0  Les coûts kilométriques ré...         C1\n",
              "1   1  Le bleu, c'est ma couleur ...         A1\n",
              "2   2  Le test de niveau en franç...         A1\n",
              "3   3  Est-ce que ton mari est au...         A1\n",
              "4   4  Dans les écoles de commerc...         B1"
            ],
            "text/html": [
              "\n",
              "  <div id=\"df-f0a4ee7a-1762-4d13-babc-00335cddc979\">\n",
              "    <div class=\"colab-df-container\">\n",
              "      <div>\n",
              "<style scoped>\n",
              "    .dataframe tbody tr th:only-of-type {\n",
              "        vertical-align: middle;\n",
              "    }\n",
              "\n",
              "    .dataframe tbody tr th {\n",
              "        vertical-align: top;\n",
              "    }\n",
              "\n",
              "    .dataframe thead th {\n",
              "        text-align: right;\n",
              "    }\n",
              "</style>\n",
              "<table border=\"1\" class=\"dataframe\">\n",
              "  <thead>\n",
              "    <tr style=\"text-align: right;\">\n",
              "      <th></th>\n",
              "      <th>id</th>\n",
              "      <th>sentence</th>\n",
              "      <th>difficulty</th>\n",
              "    </tr>\n",
              "  </thead>\n",
              "  <tbody>\n",
              "    <tr>\n",
              "      <th>0</th>\n",
              "      <td>0</td>\n",
              "      <td>Les coûts kilométriques ré...</td>\n",
              "      <td>C1</td>\n",
              "    </tr>\n",
              "    <tr>\n",
              "      <th>1</th>\n",
              "      <td>1</td>\n",
              "      <td>Le bleu, c'est ma couleur ...</td>\n",
              "      <td>A1</td>\n",
              "    </tr>\n",
              "    <tr>\n",
              "      <th>2</th>\n",
              "      <td>2</td>\n",
              "      <td>Le test de niveau en franç...</td>\n",
              "      <td>A1</td>\n",
              "    </tr>\n",
              "    <tr>\n",
              "      <th>3</th>\n",
              "      <td>3</td>\n",
              "      <td>Est-ce que ton mari est au...</td>\n",
              "      <td>A1</td>\n",
              "    </tr>\n",
              "    <tr>\n",
              "      <th>4</th>\n",
              "      <td>4</td>\n",
              "      <td>Dans les écoles de commerc...</td>\n",
              "      <td>B1</td>\n",
              "    </tr>\n",
              "  </tbody>\n",
              "</table>\n",
              "</div>\n",
              "      <button class=\"colab-df-convert\" onclick=\"convertToInteractive('df-f0a4ee7a-1762-4d13-babc-00335cddc979')\"\n",
              "              title=\"Convert this dataframe to an interactive table.\"\n",
              "              style=\"display:none;\">\n",
              "        \n",
              "  <svg xmlns=\"http://www.w3.org/2000/svg\" height=\"24px\"viewBox=\"0 0 24 24\"\n",
              "       width=\"24px\">\n",
              "    <path d=\"M0 0h24v24H0V0z\" fill=\"none\"/>\n",
              "    <path d=\"M18.56 5.44l.94 2.06.94-2.06 2.06-.94-2.06-.94-.94-2.06-.94 2.06-2.06.94zm-11 1L8.5 8.5l.94-2.06 2.06-.94-2.06-.94L8.5 2.5l-.94 2.06-2.06.94zm10 10l.94 2.06.94-2.06 2.06-.94-2.06-.94-.94-2.06-.94 2.06-2.06.94z\"/><path d=\"M17.41 7.96l-1.37-1.37c-.4-.4-.92-.59-1.43-.59-.52 0-1.04.2-1.43.59L10.3 9.45l-7.72 7.72c-.78.78-.78 2.05 0 2.83L4 21.41c.39.39.9.59 1.41.59.51 0 1.02-.2 1.41-.59l7.78-7.78 2.81-2.81c.8-.78.8-2.07 0-2.86zM5.41 20L4 18.59l7.72-7.72 1.47 1.35L5.41 20z\"/>\n",
              "  </svg>\n",
              "      </button>\n",
              "      \n",
              "  <style>\n",
              "    .colab-df-container {\n",
              "      display:flex;\n",
              "      flex-wrap:wrap;\n",
              "      gap: 12px;\n",
              "    }\n",
              "\n",
              "    .colab-df-convert {\n",
              "      background-color: #E8F0FE;\n",
              "      border: none;\n",
              "      border-radius: 50%;\n",
              "      cursor: pointer;\n",
              "      display: none;\n",
              "      fill: #1967D2;\n",
              "      height: 32px;\n",
              "      padding: 0 0 0 0;\n",
              "      width: 32px;\n",
              "    }\n",
              "\n",
              "    .colab-df-convert:hover {\n",
              "      background-color: #E2EBFA;\n",
              "      box-shadow: 0px 1px 2px rgba(60, 64, 67, 0.3), 0px 1px 3px 1px rgba(60, 64, 67, 0.15);\n",
              "      fill: #174EA6;\n",
              "    }\n",
              "\n",
              "    [theme=dark] .colab-df-convert {\n",
              "      background-color: #3B4455;\n",
              "      fill: #D2E3FC;\n",
              "    }\n",
              "\n",
              "    [theme=dark] .colab-df-convert:hover {\n",
              "      background-color: #434B5C;\n",
              "      box-shadow: 0px 1px 3px 1px rgba(0, 0, 0, 0.15);\n",
              "      filter: drop-shadow(0px 1px 2px rgba(0, 0, 0, 0.3));\n",
              "      fill: #FFFFFF;\n",
              "    }\n",
              "  </style>\n",
              "\n",
              "      <script>\n",
              "        const buttonEl =\n",
              "          document.querySelector('#df-f0a4ee7a-1762-4d13-babc-00335cddc979 button.colab-df-convert');\n",
              "        buttonEl.style.display =\n",
              "          google.colab.kernel.accessAllowed ? 'block' : 'none';\n",
              "\n",
              "        async function convertToInteractive(key) {\n",
              "          const element = document.querySelector('#df-f0a4ee7a-1762-4d13-babc-00335cddc979');\n",
              "          const dataTable =\n",
              "            await google.colab.kernel.invokeFunction('convertToInteractive',\n",
              "                                                     [key], {});\n",
              "          if (!dataTable) return;\n",
              "\n",
              "          const docLinkHtml = 'Like what you see? Visit the ' +\n",
              "            '<a target=\"_blank\" href=https://colab.research.google.com/notebooks/data_table.ipynb>data table notebook</a>'\n",
              "            + ' to learn more about interactive tables.';\n",
              "          element.innerHTML = '';\n",
              "          dataTable['output_type'] = 'display_data';\n",
              "          await google.colab.output.renderOutput(dataTable, element);\n",
              "          const docLink = document.createElement('div');\n",
              "          docLink.innerHTML = docLinkHtml;\n",
              "          element.appendChild(docLink);\n",
              "        }\n",
              "      </script>\n",
              "    </div>\n",
              "  </div>\n",
              "  "
            ]
          },
          "metadata": {},
          "execution_count": 81
        }
      ],
      "source": [
        "df =pd.read_csv(\"https://raw.githubusercontent.com/KrzysztofSzerenos/DMML2022_-Hublot/main/data/training_data.csv\",) \n",
        "df.head()"
      ]
    },
    {
      "cell_type": "code",
      "source": [
        "df_test = pd.read_csv(\"https://raw.githubusercontent.com/KrzysztofSzerenos/DMML2022_-Hublot/main/data/unlabelled_test_data.csv\",)\n",
        "df_test = df_test['sentence']\n",
        "X_test_set = df_test"
      ],
      "metadata": {
        "id": "sURxLczLFbqO"
      },
      "execution_count": null,
      "outputs": []
    },
    {
      "cell_type": "markdown",
      "source": [
        "#GENERAL DATAFRAME INFORMATION:"
      ],
      "metadata": {
        "id": "K0-tun91Esil"
      }
    },
    {
      "cell_type": "markdown",
      "source": [
        "\n",
        "##Checking data shapes: \n",
        "###- 3 columns \n",
        "###- 4800 rows"
      ],
      "metadata": {
        "id": "Q3b0KF3Phk8U"
      }
    },
    {
      "cell_type": "code",
      "execution_count": null,
      "metadata": {
        "colab": {
          "base_uri": "https://localhost:8080/"
        },
        "id": "pL4nxVkiMbq1",
        "outputId": "e216a2a9-7bc0-4e5a-896a-8bdf14a12b74"
      },
      "outputs": [
        {
          "output_type": "execute_result",
          "data": {
            "text/plain": [
              "(4800, 3)"
            ]
          },
          "metadata": {},
          "execution_count": 83
        }
      ],
      "source": [
        "df.shape"
      ]
    },
    {
      "cell_type": "markdown",
      "source": [
        "##Checking if data has any NaN values\n",
        "###- as we can see there is no NaN values"
      ],
      "metadata": {
        "id": "jw_heiu_hvSb"
      }
    },
    {
      "cell_type": "code",
      "execution_count": null,
      "metadata": {
        "colab": {
          "base_uri": "https://localhost:8080/"
        },
        "id": "oqksqpPdMxHg",
        "outputId": "f3c915c0-838e-4e58-dddc-6054871c83ff"
      },
      "outputs": [
        {
          "output_type": "execute_result",
          "data": {
            "text/plain": [
              "id            False\n",
              "sentence      False\n",
              "difficulty    False\n",
              "dtype: bool"
            ]
          },
          "metadata": {},
          "execution_count": 84
        }
      ],
      "source": [
        " df.isnull().any()"
      ]
    },
    {
      "cell_type": "markdown",
      "source": [
        "##Count of number of occurencies for each value presented in dataframe's \"difficulty\" column"
      ],
      "metadata": {
        "id": "W4KTA5pRjSoM"
      }
    },
    {
      "cell_type": "code",
      "execution_count": null,
      "metadata": {
        "colab": {
          "base_uri": "https://localhost:8080/"
        },
        "id": "aEgamP_rNjOI",
        "outputId": "112c4219-0be8-409e-fc6f-1993a698fc05"
      },
      "outputs": [
        {
          "output_type": "execute_result",
          "data": {
            "text/plain": [
              "A1    813\n",
              "C2    807\n",
              "C1    798\n",
              "B1    795\n",
              "A2    795\n",
              "B2    792\n",
              "Name: difficulty, dtype: int64"
            ]
          },
          "metadata": {},
          "execution_count": 85
        }
      ],
      "source": [
        "df['difficulty'].value_counts()"
      ]
    },
    {
      "cell_type": "markdown",
      "source": [
        "## BASE RATE =  (most frequent class) / (total observations) --> IS THE BASELINE THE SAME?"
      ],
      "metadata": {
        "id": "NGHxmLGzkjEK"
      }
    },
    {
      "cell_type": "code",
      "source": [
        "base_rate = np.max(df.difficulty.value_counts()/df.sentence.shape[0]) \n",
        "print(f\"Base rate:\\n{base_rate:.4f}\")"
      ],
      "metadata": {
        "colab": {
          "base_uri": "https://localhost:8080/"
        },
        "id": "78r42K_Gkusk",
        "outputId": "7ddbc0f1-0e08-4b84-ce45-ff0073c6b98b"
      },
      "execution_count": null,
      "outputs": [
        {
          "output_type": "stream",
          "name": "stdout",
          "text": [
            "Base rate:\n",
            "0.1694\n"
          ]
        }
      ]
    },
    {
      "cell_type": "markdown",
      "metadata": {
        "id": "mbprg37sP_Od"
      },
      "source": [
        "# LOGISTIC REGRESSION \n",
        "###(Only vectorization, without any datacleaning as asked in the Kaggle competition.)"
      ]
    },
    {
      "cell_type": "code",
      "execution_count": null,
      "metadata": {
        "colab": {
          "base_uri": "https://localhost:8080/"
        },
        "id": "o7Klac7uoxvQ",
        "outputId": "0e51934a-db99-4244-f6a1-9259233c6a43"
      },
      "outputs": [
        {
          "output_type": "execute_result",
          "data": {
            "text/plain": [
              "Index(['id', 'sentence', 'difficulty'], dtype='object')"
            ]
          },
          "metadata": {},
          "execution_count": 87
        }
      ],
      "source": [
        "df.columns"
      ]
    },
    {
      "cell_type": "code",
      "execution_count": null,
      "metadata": {
        "id": "ZdNT82wp-5FU"
      },
      "outputs": [],
      "source": [
        "from sklearn.model_selection import train_test_split\n",
        "from sklearn.linear_model import LogisticRegression\n",
        "from sklearn.feature_extraction.text import CountVectorizer"
      ]
    },
    {
      "cell_type": "markdown",
      "source": [
        "## Split in Train (80%) Test (20%) "
      ],
      "metadata": {
        "id": "fppddq1fy1t5"
      }
    },
    {
      "cell_type": "code",
      "execution_count": null,
      "metadata": {
        "colab": {
          "base_uri": "https://localhost:8080/"
        },
        "id": "pYD21Jw55UlW",
        "outputId": "fbae3b57-12fc-4758-829e-dacf09cff551"
      },
      "outputs": [
        {
          "output_type": "execute_result",
          "data": {
            "text/plain": [
              "(array(['A1', 'A2', 'B1', 'B2', 'C1', 'C2'], dtype=object),\n",
              " array([813, 795, 795, 792, 798, 807]))"
            ]
          },
          "metadata": {},
          "execution_count": 89
        }
      ],
      "source": [
        "X = df['sentence']\n",
        "y = df['difficulty']\n",
        "X_train, X_test, y_train, y_test = train_test_split(X,y, test_size=0.2, random_state=0)\n",
        "np.unique(y, return_counts=True)"
      ]
    },
    {
      "cell_type": "code",
      "source": [],
      "metadata": {
        "id": "-hyGO3XprJsU"
      },
      "execution_count": null,
      "outputs": []
    },
    {
      "cell_type": "markdown",
      "source": [
        "## Vectorization (CountVectorizer)"
      ],
      "metadata": {
        "id": "YyUwFK6x0ObE"
      }
    },
    {
      "cell_type": "code",
      "execution_count": null,
      "metadata": {
        "id": "-F9dBUYz5bpB"
      },
      "outputs": [],
      "source": [
        "from sklearn.feature_extraction.text import CountVectorizer\n",
        "vectorizer = CountVectorizer()  # vectorization\n",
        "vectorizer.fit(X,y)\n",
        "X_train_vec = vectorizer.transform(X_train)\n",
        "X_test_vec = vectorizer.transform(X_test)\n",
        "X_df_test = vectorizer.transform(df_test)"
      ]
    },
    {
      "cell_type": "markdown",
      "source": [
        "##Setting up the model and its parameters"
      ],
      "metadata": {
        "id": "gLUAjUnu0X6M"
      }
    },
    {
      "cell_type": "code",
      "execution_count": null,
      "metadata": {
        "id": "3Q5pUziOLxMA"
      },
      "outputs": [],
      "source": [
        "classifier = LogisticRegression(max_iter=1000, solver='lbfgs')\n",
        "classifier.fit(X_train_vec, y_train)\n",
        "log_reg_pred = classifier.predict(X_test_vec)\n",
        "# QUESTIONS: can I do more than just vectorization? Can we use LogisticRegrssionCV instead of LogisticRegression????????? Why we get the lower accuracy while using CV?"
      ]
    },
    {
      "cell_type": "markdown",
      "source": [
        "##Model evaluation with Confusion Matrix and all the required in project measures:\n",
        "- Accuracy\n",
        "- Precision\n",
        "- Recall\n",
        "- F1 score\n"
      ],
      "metadata": {
        "id": "-nW2DgWP0iFD"
      }
    },
    {
      "cell_type": "code",
      "execution_count": null,
      "metadata": {
        "colab": {
          "base_uri": "https://localhost:8080/",
          "height": 173
        },
        "id": "k9pxLyEhu1uO",
        "outputId": "0868cf53-5c27-46cd-d7a2-b1c4953d971c"
      },
      "outputs": [
        {
          "output_type": "stream",
          "name": "stdout",
          "text": [
            "ACCURACY SCORE:\n",
            "0.4594\n",
            "CLASSIFICATION REPORT:\n",
            "\tPrecision: 0.4664\n",
            "\tRecall: 0.4594\n",
            "\tF1_Score: 0.4557\n",
            "0.4594\n"
          ]
        },
        {
          "output_type": "display_data",
          "data": {
            "text/plain": [
              "<Figure size 720x720 with 2 Axes>"
            ],
            "image/png": "[encoded data removed]"
          },
          "metadata": {}
        }
      ],
      "source": [
        "from sklearn.metrics import confusion_matrix, accuracy_score, precision_score, recall_score, f1_score\n",
        "def evaluate(test, pred):\n",
        "  precision = precision_score(test, pred, average='weighted')\n",
        "  recall = recall_score(test, pred, average='weighted')\n",
        "  f1= f1_score(test, pred, average='weighted')\n",
        "  print(f\"ACCURACY SCORE:\\n{accuracy_score(test, pred) :.4f}\")\n",
        "  print(f'CLASSIFICATION REPORT:\\n\\tPrecision: {precision:.4f}\\n\\tRecall: {recall:.4f}\\n\\tF1_Score: {f1:.4f}')\n",
        "evaluate(y_test, log_reg_pred)\n",
        "def accuracy_conf_mat(test, pred):\n",
        "  print(round(accuracy_score(test, pred), 4))\n",
        "  conf_mat = confusion_matrix(test, pred)\n",
        "  fig, ax = plt.subplots(figsize=(10,10))\n",
        "  sns.heatmap(conf_mat, annot=True, fmt='d')\n",
        "  plt.ylabel('Actual')\n",
        "  plt.xlabel('Predicted')\n",
        "  plt.show()\n",
        "\n",
        "accuracy_conf_mat(y_test, log_reg_pred)"
      ]
    },
    {
      "cell_type": "markdown",
      "metadata": {
        "id": "DsapltBJnNS8"
      },
      "source": [
        "# K-Nearest Neighbors\n"
      ]
    },
    {
      "cell_type": "code",
      "execution_count": null,
      "metadata": {
        "id": "b0Cm4eh_vjUH"
      },
      "outputs": [],
      "source": [
        "from pandas.core.common import random_state\n",
        "from sklearn.neighbors import KNeighborsClassifier\n",
        "from sklearn.model_selection import GridSearchCV\n",
        "knn = KNeighborsClassifier()\n",
        "\n",
        "k_range = list(range(1, 6))\n",
        "param_grid = dict(n_neighbors=k_range)\n",
        "  \n",
        "# defining parameter range\n",
        "grid = GridSearchCV(knn,  param_grid, cv=5, scoring='accuracy',return_train_score=False,verbose=False)\n",
        "\n",
        "grid_search=grid.fit(X_train_vec, y_train)\n"
      ]
    },
    {
      "cell_type": "code",
      "execution_count": null,
      "metadata": {
        "colab": {
          "base_uri": "https://localhost:8080/"
        },
        "id": "TFp-jb6_v8G5",
        "outputId": "30ec9390-153a-42f7-fb09-1fceb4b28d9d"
      },
      "outputs": [
        {
          "output_type": "execute_result",
          "data": {
            "text/plain": [
              "{'n_neighbors': 1}"
            ]
          },
          "metadata": {},
          "execution_count": 94
        }
      ],
      "source": [
        "grid_search.best_params_"
      ]
    },
    {
      "cell_type": "code",
      "execution_count": null,
      "metadata": {
        "colab": {
          "base_uri": "https://localhost:8080/"
        },
        "id": "9hIPaQNyv_er",
        "outputId": "1346401e-7a95-4bce-ebb6-c5db8affc415"
      },
      "outputs": [
        {
          "output_type": "execute_result",
          "data": {
            "text/plain": [
              "0.23020833333333335"
            ]
          },
          "metadata": {},
          "execution_count": 95
        }
      ],
      "source": [
        "grid_search.best_score_ "
      ]
    },
    {
      "cell_type": "markdown",
      "source": [
        "##Setting up the model and its parameters"
      ],
      "metadata": {
        "id": "DC1OWbC6HdhR"
      }
    },
    {
      "cell_type": "code",
      "execution_count": null,
      "metadata": {
        "id": "F2BWRDqlwOMp"
      },
      "outputs": [],
      "source": [
        "# YOUR CODE HERE\n",
        "\n",
        "knn = KNeighborsClassifier(n_neighbors=5)\n",
        "knn.fit(X_train_vec, y_train)\n",
        "y_pred_knn = knn.predict(X_test_vec)"
      ]
    },
    {
      "cell_type": "markdown",
      "source": [
        "##Model evaluation with Confusion Matrix and all the required in project measures:\n",
        "- Accuracy\n",
        "- Precision\n",
        "- Recall\n",
        "- F1 score"
      ],
      "metadata": {
        "id": "9NkH4BvNHPpe"
      }
    },
    {
      "cell_type": "code",
      "execution_count": null,
      "metadata": {
        "colab": {
          "base_uri": "https://localhost:8080/",
          "height": 173
        },
        "id": "OEAK2nTLA7q0",
        "outputId": "e90a693b-1487-48be-f5c1-b4451c1231cf"
      },
      "outputs": [
        {
          "output_type": "stream",
          "name": "stdout",
          "text": [
            "ACCURACY SCORE:\n",
            "0.2031\n",
            "CLASSIFICATION REPORT:\n",
            "\tPrecision: 0.2972\n",
            "\tRecall: 0.2031\n",
            "\tF1_Score: 0.1183\n",
            "0.2031\n"
          ]
        },
        {
          "output_type": "display_data",
          "data": {
            "text/plain": [
              "<Figure size 720x720 with 2 Axes>"
            ],
            "image/png": "[encoded data removed]"
          },
          "metadata": {}
        }
      ],
      "source": [
        "def evaluate(test, pred):\n",
        "  precision = precision_score(test, pred, average='weighted')\n",
        "  recall = recall_score(test, pred, average='weighted')\n",
        "  f1= f1_score(test, pred, average='weighted')\n",
        "  print(f\"ACCURACY SCORE:\\n{accuracy_score(test, pred) :.4f}\")\n",
        "  print(f'CLASSIFICATION REPORT:\\n\\tPrecision: {precision:.4f}\\n\\tRecall: {recall:.4f}\\n\\tF1_Score: {f1:.4f}')\n",
        "evaluate(y_test, y_pred_knn)\n",
        "def accuracy_conf_mat(test, pred):\n",
        "  print(round(accuracy_score(test, pred), 4))\n",
        "  conf_mat = confusion_matrix(test, pred)\n",
        "  fig, ax = plt.subplots(figsize=(10,10))\n",
        "  sns.heatmap(conf_mat, annot=True, fmt='d')\n",
        "  plt.ylabel('Actual')\n",
        "  plt.xlabel('Predicted')\n",
        "  plt.show()\n",
        "\n",
        "accuracy_conf_mat(y_test, y_pred_knn)\n",
        "# Accuracy, Precision, Recall, F1_score"
      ]
    },
    {
      "cell_type": "markdown",
      "metadata": {
        "id": "SznBdY3Dn84l"
      },
      "source": [
        "# Decision Tree"
      ]
    },
    {
      "cell_type": "code",
      "execution_count": null,
      "metadata": {
        "id": "CWWc6QGKBzus"
      },
      "outputs": [],
      "source": [
        "from sklearn.tree import DecisionTreeClassifier, plot_tree\n",
        "from sklearn.model_selection import cross_val_score"
      ]
    },
    {
      "cell_type": "markdown",
      "source": [
        "## Looking for the optimal number of tree depth"
      ],
      "metadata": {
        "id": "W48CMdcLGuN9"
      }
    },
    {
      "cell_type": "code",
      "execution_count": null,
      "metadata": {
        "id": "qNa4iUWRBiyd"
      },
      "outputs": [],
      "source": [
        "def run_cross_validation_on_trees(X, y, tree_depths, cv=5, scoring='accuracy'):\n",
        "    cv_scores_list = []\n",
        "    cv_scores_std = []\n",
        "    cv_scores_mean = []\n",
        "    accuracy_scores = []\n",
        "    for depth in tree_depths:\n",
        "        tree_model = DecisionTreeClassifier(max_depth=depth)\n",
        "        cv_scores = cross_val_score(tree_model, X, y, cv=cv, scoring=scoring)\n",
        "        cv_scores_list.append(cv_scores)\n",
        "        cv_scores_mean.append(cv_scores.mean())\n",
        "        cv_scores_std.append(cv_scores.std())\n",
        "        accuracy_scores.append(tree_model.fit(X, y).score(X, y))\n",
        "    cv_scores_mean = np.array(cv_scores_mean)\n",
        "    cv_scores_std = np.array(cv_scores_std)\n",
        "    accuracy_scores = np.array(accuracy_scores)\n",
        "    return cv_scores_mean, cv_scores_std, accuracy_scores\n",
        "\n",
        "def plot_cross_validation_on_trees(depths, cv_scores_mean, cv_scores_std, accuracy_scores, title):\n",
        "    fig, ax = plt.subplots(1,1, figsize=(15,5))\n",
        "    ax.plot(depths, cv_scores_mean, '-o', label='mean cross-validation accuracy', alpha=0.9)\n",
        "    ax.fill_between(depths, cv_scores_mean-2*cv_scores_std, cv_scores_mean+2*cv_scores_std, alpha=0.2)\n",
        "    ylim = plt.ylim()\n",
        "    ax.plot(depths, accuracy_scores, '-*', label='train accuracy', alpha=0.9)\n",
        "    ax.set_title(title, fontsize=16)\n",
        "    ax.set_xlabel('Tree depth', fontsize=14)\n",
        "    ax.set_ylabel('Accuracy', fontsize=14)\n",
        "    ax.set_ylim(ylim)\n",
        "    ax.set_xticks(depths)\n",
        "    ax.legend()"
      ]
    },
    {
      "cell_type": "code",
      "execution_count": null,
      "metadata": {
        "id": "u9UQVmsABsFg"
      },
      "outputs": [],
      "source": [
        "tree_depths = range(1,26)\n",
        "cv_scores_mean, cv_scores_std, accuracy_scores = run_cross_validation_on_trees(X_train_vec, y_train, tree_depths)"
      ]
    },
    {
      "cell_type": "code",
      "execution_count": null,
      "metadata": {
        "colab": {
          "base_uri": "https://localhost:8080/",
          "height": 71
        },
        "id": "TQqBt6EGB_Go",
        "outputId": "c5134298-108c-44fa-e19f-6229be6ed4ec"
      },
      "outputs": [
        {
          "output_type": "stream",
          "name": "stdout",
          "text": [
            "The optimal depth - 14 trees\n"
          ]
        },
        {
          "output_type": "display_data",
          "data": {
            "text/plain": [
              "<Figure size 1080x360 with 1 Axes>"
            ],
            "image/png": "[encoded data removed]"
          },
          "metadata": {}
        }
      ],
      "source": [
        "plot_cross_validation_on_trees(tree_depths, cv_scores_mean, cv_scores_std, accuracy_scores, 'Accuracy by number of trees')\n",
        "max_score = cv_scores_mean.argmax()\n",
        "best_tree_depth = tree_depths[max_score]\n",
        "best_tree_cv_score = cv_scores_mean[max_score]\n",
        "best_tree_cv_score_std = cv_scores_std[max_score]\n",
        "print('The optimal depth - {} trees'.format(best_tree_depth, round(best_tree_cv_score*100,5), round(best_tree_cv_score_std*100, 5)))"
      ]
    },
    {
      "cell_type": "markdown",
      "source": [
        "##Setting up the model and its parameters"
      ],
      "metadata": {
        "id": "y57CLHscGrcu"
      }
    },
    {
      "cell_type": "code",
      "execution_count": null,
      "metadata": {
        "id": "S1V9FLyICM9v"
      },
      "outputs": [],
      "source": [
        "Tree = DecisionTreeClassifier(max_depth=14, random_state=0)\n",
        "Tree.fit(X_train_vec, y_train)\n",
        "tree_pred = Tree.predict(X_test_vec)"
      ]
    },
    {
      "cell_type": "markdown",
      "source": [
        "##Model evaluation with Confusion Matrix and all the required in project measures:\n",
        "- Accuracy\n",
        "- Precision\n",
        "- Recall\n",
        "- F1 score"
      ],
      "metadata": {
        "id": "eA6v73fbHGa-"
      }
    },
    {
      "cell_type": "code",
      "source": [
        "def evaluate(test, pred):\n",
        "  precision = precision_score(test, pred, average='weighted')\n",
        "  recall = recall_score(test, pred, average='weighted')\n",
        "  f1= f1_score(test, pred, average='weighted')\n",
        "  print(f\"ACCURACY SCORE:\\n{accuracy_score(test, pred) :.4f}\")\n",
        "  print(f'CLASSIFICATION REPORT:\\n\\tPrecision: {precision:.4f}\\n\\tRecall: {recall:.4f}\\n\\tF1_Score: {f1:.4f}')\n",
        "evaluate(y_test, tree_pred)\n",
        "def accuracy_conf_mat(test, pred):\n",
        "  print(round(accuracy_score(test, pred), 4))\n",
        "  conf_mat = confusion_matrix(test, pred)\n",
        "  fig, ax = plt.subplots(figsize=(10,10))\n",
        "  sns.heatmap(conf_mat, annot=True, fmt='d')\n",
        "  plt.ylabel('Actual')\n",
        "  plt.xlabel('Predicted')\n",
        "  plt.show()\n",
        "\n",
        "accuracy_conf_mat(y_test, tree_pred)"
      ],
      "metadata": {
        "colab": {
          "base_uri": "https://localhost:8080/",
          "height": 173
        },
        "id": "7x42pivQHK2p",
        "outputId": "5b54baac-8d8a-49b9-a9c2-4fa1204aeb9e"
      },
      "execution_count": null,
      "outputs": [
        {
          "output_type": "stream",
          "name": "stdout",
          "text": [
            "ACCURACY SCORE:\n",
            "0.3260\n",
            "CLASSIFICATION REPORT:\n",
            "\tPrecision: 0.3241\n",
            "\tRecall: 0.3260\n",
            "\tF1_Score: 0.3113\n",
            "0.326\n"
          ]
        },
        {
          "output_type": "display_data",
          "data": {
            "text/plain": [
              "<Figure size 720x720 with 2 Axes>"
            ],
            "image/png": "[encoded data removed]"
          },
          "metadata": {}
        }
      ]
    },
    {
      "cell_type": "markdown",
      "metadata": {
        "id": "z4zEPPronj_g"
      },
      "source": [
        "# Random Forest"
      ]
    },
    {
      "cell_type": "markdown",
      "source": [
        "##Setting up the model and its parameters"
      ],
      "metadata": {
        "id": "vvwfyDa_IUf4"
      }
    },
    {
      "cell_type": "code",
      "execution_count": null,
      "metadata": {
        "id": "IX1P18HDluU6"
      },
      "outputs": [],
      "source": [
        "from sklearn.ensemble import RandomForestClassifier\n",
        "classifier_rf=RandomForestClassifier(n_estimators =400,criterion=\"entropy\",random_state =0)\n",
        "classifier_rf.fit(X_train_vec,y_train)\n",
        "y_pred_rf = classifier_rf.predict(X_test_vec)"
      ]
    },
    {
      "cell_type": "markdown",
      "source": [
        "##Model evaluation with Confusion Matrix and all the required in project measures:\n",
        "- Accuracy\n",
        "- Precision\n",
        "- Recall\n",
        "- F1 score"
      ],
      "metadata": {
        "id": "S7puowacHoAo"
      }
    },
    {
      "cell_type": "code",
      "source": [
        "def evaluate(test, pred):\n",
        "  precision = precision_score(test, pred, average='weighted')\n",
        "  recall = recall_score(test, pred, average='weighted')\n",
        "  f1= f1_score(test, pred, average='weighted')\n",
        "  print(f\"ACCURACY SCORE:\\n{accuracy_score(test, pred) :.4f}\")\n",
        "  print(f'CLASSIFICATION REPORT:\\n\\tPrecision: {precision:.4f}\\n\\tRecall: {recall:.4f}\\n\\tF1_Score: {f1:.4f}')\n",
        "evaluate(y_test, y_pred_rf)\n",
        "def accuracy_conf_mat(test, pred):\n",
        "  print(round(accuracy_score(test, pred), 4))\n",
        "  conf_mat = confusion_matrix(test, pred)\n",
        "  fig, ax = plt.subplots(figsize=(10,10))\n",
        "  sns.heatmap(conf_mat, annot=True, fmt='d')\n",
        "  plt.ylabel('Actual')\n",
        "  plt.xlabel('Predicted')\n",
        "  plt.show()\n",
        "\n",
        "accuracy_conf_mat(y_test, y_pred_rf)"
      ],
      "metadata": {
        "colab": {
          "base_uri": "https://localhost:8080/",
          "height": 173
        },
        "id": "-gEpk1FwHonU",
        "outputId": "91041131-4377-48c0-8396-55ae3c7b81e2"
      },
      "execution_count": null,
      "outputs": [
        {
          "output_type": "stream",
          "name": "stdout",
          "text": [
            "ACCURACY SCORE:\n",
            "0.3906\n",
            "CLASSIFICATION REPORT:\n",
            "\tPrecision: 0.4149\n",
            "\tRecall: 0.3906\n",
            "\tF1_Score: 0.3735\n",
            "0.3906\n"
          ]
        },
        {
          "output_type": "display_data",
          "data": {
            "text/plain": [
              "<Figure size 720x720 with 2 Axes>"
            ],
            "image/png": "[encoded data removed]"
          },
          "metadata": {}
        }
      ]
    },
    {
      "cell_type": "markdown",
      "metadata": {
        "id": "nwLGMYJn_ehH"
      },
      "source": [
        "# Naive Bayes Model"
      ]
    },
    {
      "cell_type": "markdown",
      "source": [
        "##Setting up the model and its parameters"
      ],
      "metadata": {
        "id": "aICKUTs6Jr37"
      }
    },
    {
      "cell_type": "code",
      "execution_count": null,
      "metadata": {
        "id": "p58Z_cZz_fSs",
        "colab": {
          "base_uri": "https://localhost:8080/"
        },
        "outputId": "55df6f40-3650-4290-9d75-99be827927fd"
      },
      "outputs": [
        {
          "output_type": "stream",
          "name": "stderr",
          "text": [
            "/usr/local/lib/python3.8/dist-packages/sklearn/utils/validation.py:593: FutureWarning: np.matrix usage is deprecated in 1.0 and will raise a TypeError in 1.2. Please convert to a numpy array with np.asarray. For more information see: https://numpy.org/doc/stable/reference/generated/numpy.matrix.html\n",
            "  warnings.warn(\n",
            "/usr/local/lib/python3.8/dist-packages/sklearn/utils/validation.py:593: FutureWarning: np.matrix usage is deprecated in 1.0 and will raise a TypeError in 1.2. Please convert to a numpy array with np.asarray. For more information see: https://numpy.org/doc/stable/reference/generated/numpy.matrix.html\n",
            "  warnings.warn(\n"
          ]
        }
      ],
      "source": [
        "from sklearn.naive_bayes import GaussianNB\n",
        "\n",
        "def set_random_seed(seed=0):\n",
        "  np.random.seed(seed)\n",
        "  random.seed(seed)\n",
        "  set_random_seed(0)\n",
        "  \n",
        "classifier_NB = GaussianNB()\n",
        "X_train_vec_t = X_train_vec.todense()\n",
        "X_test_vec_t = X_test_vec.todense()\n",
        "X_df_test_dense = X_df_test.todense() # this line was set up just for Kaggle submision purpose\n",
        "classifier_NB.fit(X_train_vec_t, y_train)\n",
        "y_pred_NB = classifier_NB.predict(X_test_vec_t)"
      ]
    },
    {
      "cell_type": "markdown",
      "source": [
        "##Model evaluation with Confusion Matrix and all the required in project measures:\n",
        "- Accuracy\n",
        "- Precision\n",
        "- Recall\n",
        "- F1 score"
      ],
      "metadata": {
        "id": "M5Wki7tRI2Rl"
      }
    },
    {
      "cell_type": "code",
      "source": [
        "def evaluate(test, pred):\n",
        "  precision = precision_score(test, pred, average='weighted')\n",
        "  recall = recall_score(test, pred, average='weighted')\n",
        "  f1= f1_score(test, pred, average='weighted')\n",
        "  print(f\"ACCURACY SCORE:\\n{accuracy_score(test, pred) :.4f}\")\n",
        "  print(f'CLASSIFICATION REPORT:\\n\\tPrecision: {precision:.4f}\\n\\tRecall: {recall:.4f}\\n\\tF1_Score: {f1:.4f}')\n",
        "evaluate(y_test, y_pred_NB)\n",
        "def accuracy_conf_mat(test, pred):\n",
        "  print(round(accuracy_score(test, pred), 4))\n",
        "  conf_mat = confusion_matrix(test, pred)\n",
        "  fig, ax = plt.subplots(figsize=(10,10))\n",
        "  sns.heatmap(conf_mat, annot=True, fmt='d')\n",
        "  plt.ylabel('Actual')\n",
        "  plt.xlabel('Predicted')\n",
        "  plt.show()\n",
        "\n",
        "accuracy_conf_mat(y_test, y_pred_NB)"
      ],
      "metadata": {
        "colab": {
          "base_uri": "https://localhost:8080/",
          "height": 173
        },
        "id": "8By0oC3xI0MK",
        "outputId": "877ef4fd-b67f-41ba-954d-2058b9486f68"
      },
      "execution_count": null,
      "outputs": [
        {
          "output_type": "stream",
          "name": "stdout",
          "text": [
            "ACCURACY SCORE:\n",
            "0.4292\n",
            "CLASSIFICATION REPORT:\n",
            "\tPrecision: 0.4325\n",
            "\tRecall: 0.4292\n",
            "\tF1_Score: 0.4292\n",
            "0.4292\n"
          ]
        },
        {
          "output_type": "display_data",
          "data": {
            "text/plain": [
              "<Figure size 720x720 with 2 Axes>"
            ],
            "image/png": "[encoded data removed]"
          },
          "metadata": {}
        }
      ]
    },
    {
      "cell_type": "markdown",
      "source": [
        "# Tokenization"
      ],
      "metadata": {
        "id": "qhPrcHYwLSsg"
      }
    },
    {
      "cell_type": "code",
      "source": [
        "##############################  TOKENIZATION  #############################\n",
        "import nltk\n",
        "from nltk.tokenize import word_tokenize\n",
        "nltk.download('punkt')\n",
        "pd.set_option('display.max_colwidth', 30)\n",
        "df['sentence_Tokenized'] = df['sentence'].apply(word_tokenize)\n",
        "df.head()\n",
        "df['Token_Count'] = df['sentence_Tokenized'].str.len()\n",
        "df.head()"
      ],
      "metadata": {
        "colab": {
          "base_uri": "https://localhost:8080/",
          "height": 238
        },
        "id": "5rxx7aTBQDa7",
        "outputId": "9e5225aa-8a56-4bac-a8df-11cad6edaca0"
      },
      "execution_count": null,
      "outputs": [
        {
          "output_type": "stream",
          "name": "stderr",
          "text": [
            "[nltk_data] Downloading package punkt to /root/nltk_data...\n",
            "[nltk_data]   Package punkt is already up-to-date!\n"
          ]
        },
        {
          "output_type": "execute_result",
          "data": {
            "text/plain": [
              "   id                       sentence difficulty  \\\n",
              "0   0  Les coûts kilométriques ré...         C1   \n",
              "1   1  Le bleu, c'est ma couleur ...         A1   \n",
              "2   2  Le test de niveau en franç...         A1   \n",
              "3   3  Est-ce que ton mari est au...         A1   \n",
              "4   4  Dans les écoles de commerc...         B1   \n",
              "\n",
              "              sentence_Tokenized  Token_Count  \n",
              "0  [Les, coûts, kilométriques...           44  \n",
              "1  [Le, bleu, ,, c'est, ma, c...           14  \n",
              "2  [Le, test, de, niveau, en,...           14  \n",
              "3  [Est-ce, que, ton, mari, e...            9  \n",
              "4  [Dans, les, écoles, de, co...           39  "
            ],
            "text/html": [
              "\n",
              "  <div id=\"df-bb8d66b7-befa-40f0-a5cb-7a11ff50c659\">\n",
              "    <div class=\"colab-df-container\">\n",
              "      <div>\n",
              "<style scoped>\n",
              "    .dataframe tbody tr th:only-of-type {\n",
              "        vertical-align: middle;\n",
              "    }\n",
              "\n",
              "    .dataframe tbody tr th {\n",
              "        vertical-align: top;\n",
              "    }\n",
              "\n",
              "    .dataframe thead th {\n",
              "        text-align: right;\n",
              "    }\n",
              "</style>\n",
              "<table border=\"1\" class=\"dataframe\">\n",
              "  <thead>\n",
              "    <tr style=\"text-align: right;\">\n",
              "      <th></th>\n",
              "      <th>id</th>\n",
              "      <th>sentence</th>\n",
              "      <th>difficulty</th>\n",
              "      <th>sentence_Tokenized</th>\n",
              "      <th>Token_Count</th>\n",
              "    </tr>\n",
              "  </thead>\n",
              "  <tbody>\n",
              "    <tr>\n",
              "      <th>0</th>\n",
              "      <td>0</td>\n",
              "      <td>Les coûts kilométriques ré...</td>\n",
              "      <td>C1</td>\n",
              "      <td>[Les, coûts, kilométriques...</td>\n",
              "      <td>44</td>\n",
              "    </tr>\n",
              "    <tr>\n",
              "      <th>1</th>\n",
              "      <td>1</td>\n",
              "      <td>Le bleu, c'est ma couleur ...</td>\n",
              "      <td>A1</td>\n",
              "      <td>[Le, bleu, ,, c'est, ma, c...</td>\n",
              "      <td>14</td>\n",
              "    </tr>\n",
              "    <tr>\n",
              "      <th>2</th>\n",
              "      <td>2</td>\n",
              "      <td>Le test de niveau en franç...</td>\n",
              "      <td>A1</td>\n",
              "      <td>[Le, test, de, niveau, en,...</td>\n",
              "      <td>14</td>\n",
              "    </tr>\n",
              "    <tr>\n",
              "      <th>3</th>\n",
              "      <td>3</td>\n",
              "      <td>Est-ce que ton mari est au...</td>\n",
              "      <td>A1</td>\n",
              "      <td>[Est-ce, que, ton, mari, e...</td>\n",
              "      <td>9</td>\n",
              "    </tr>\n",
              "    <tr>\n",
              "      <th>4</th>\n",
              "      <td>4</td>\n",
              "      <td>Dans les écoles de commerc...</td>\n",
              "      <td>B1</td>\n",
              "      <td>[Dans, les, écoles, de, co...</td>\n",
              "      <td>39</td>\n",
              "    </tr>\n",
              "  </tbody>\n",
              "</table>\n",
              "</div>\n",
              "      <button class=\"colab-df-convert\" onclick=\"convertToInteractive('df-bb8d66b7-befa-40f0-a5cb-7a11ff50c659')\"\n",
              "              title=\"Convert this dataframe to an interactive table.\"\n",
              "              style=\"display:none;\">\n",
              "        \n",
              "  <svg xmlns=\"http://www.w3.org/2000/svg\" height=\"24px\"viewBox=\"0 0 24 24\"\n",
              "       width=\"24px\">\n",
              "    <path d=\"M0 0h24v24H0V0z\" fill=\"none\"/>\n",
              "    <path d=\"M18.56 5.44l.94 2.06.94-2.06 2.06-.94-2.06-.94-.94-2.06-.94 2.06-2.06.94zm-11 1L8.5 8.5l.94-2.06 2.06-.94-2.06-.94L8.5 2.5l-.94 2.06-2.06.94zm10 10l.94 2.06.94-2.06 2.06-.94-2.06-.94-.94-2.06-.94 2.06-2.06.94z\"/><path d=\"M17.41 7.96l-1.37-1.37c-.4-.4-.92-.59-1.43-.59-.52 0-1.04.2-1.43.59L10.3 9.45l-7.72 7.72c-.78.78-.78 2.05 0 2.83L4 21.41c.39.39.9.59 1.41.59.51 0 1.02-.2 1.41-.59l7.78-7.78 2.81-2.81c.8-.78.8-2.07 0-2.86zM5.41 20L4 18.59l7.72-7.72 1.47 1.35L5.41 20z\"/>\n",
              "  </svg>\n",
              "      </button>\n",
              "      \n",
              "  <style>\n",
              "    .colab-df-container {\n",
              "      display:flex;\n",
              "      flex-wrap:wrap;\n",
              "      gap: 12px;\n",
              "    }\n",
              "\n",
              "    .colab-df-convert {\n",
              "      background-color: #E8F0FE;\n",
              "      border: none;\n",
              "      border-radius: 50%;\n",
              "      cursor: pointer;\n",
              "      display: none;\n",
              "      fill: #1967D2;\n",
              "      height: 32px;\n",
              "      padding: 0 0 0 0;\n",
              "      width: 32px;\n",
              "    }\n",
              "\n",
              "    .colab-df-convert:hover {\n",
              "      background-color: #E2EBFA;\n",
              "      box-shadow: 0px 1px 2px rgba(60, 64, 67, 0.3), 0px 1px 3px 1px rgba(60, 64, 67, 0.15);\n",
              "      fill: #174EA6;\n",
              "    }\n",
              "\n",
              "    [theme=dark] .colab-df-convert {\n",
              "      background-color: #3B4455;\n",
              "      fill: #D2E3FC;\n",
              "    }\n",
              "\n",
              "    [theme=dark] .colab-df-convert:hover {\n",
              "      background-color: #434B5C;\n",
              "      box-shadow: 0px 1px 3px 1px rgba(0, 0, 0, 0.15);\n",
              "      filter: drop-shadow(0px 1px 2px rgba(0, 0, 0, 0.3));\n",
              "      fill: #FFFFFF;\n",
              "    }\n",
              "  </style>\n",
              "\n",
              "      <script>\n",
              "        const buttonEl =\n",
              "          document.querySelector('#df-bb8d66b7-befa-40f0-a5cb-7a11ff50c659 button.colab-df-convert');\n",
              "        buttonEl.style.display =\n",
              "          google.colab.kernel.accessAllowed ? 'block' : 'none';\n",
              "\n",
              "        async function convertToInteractive(key) {\n",
              "          const element = document.querySelector('#df-bb8d66b7-befa-40f0-a5cb-7a11ff50c659');\n",
              "          const dataTable =\n",
              "            await google.colab.kernel.invokeFunction('convertToInteractive',\n",
              "                                                     [key], {});\n",
              "          if (!dataTable) return;\n",
              "\n",
              "          const docLinkHtml = 'Like what you see? Visit the ' +\n",
              "            '<a target=\"_blank\" href=https://colab.research.google.com/notebooks/data_table.ipynb>data table notebook</a>'\n",
              "            + ' to learn more about interactive tables.';\n",
              "          element.innerHTML = '';\n",
              "          dataTable['output_type'] = 'display_data';\n",
              "          await google.colab.output.renderOutput(dataTable, element);\n",
              "          const docLink = document.createElement('div');\n",
              "          docLink.innerHTML = docLinkHtml;\n",
              "          element.appendChild(docLink);\n",
              "        }\n",
              "      </script>\n",
              "    </div>\n",
              "  </div>\n",
              "  "
            ]
          },
          "metadata": {},
          "execution_count": 108
        }
      ]
    },
    {
      "cell_type": "markdown",
      "source": [
        "## Dataframe cleaning"
      ],
      "metadata": {
        "id": "JiiDjViFgeDs"
      }
    },
    {
      "cell_type": "code",
      "source": [
        "#import re\n",
        "#import pandas as pd\n",
        "#from string import punctuation\n",
        "\n",
        "#def preprocess_text(dr):\n",
        "#    df['sentence'] = df['sentence'].lower()  # Lowercase text\n",
        "#    df['sentence'] = clean_text = re.sub(r\"\\b[0-9]+\\b\\s*\", \"\", df['sentence'])  # Remove punctuation\n",
        "#    df['sentence'] = \" \".join(df['sentence'].split())  # Remove extra spaces, tabs, and new lines\n",
        "#    df['sentence'] = \" \".join([w for w in df['sentence'].split() if not w.isdigit()])\n",
        "#    return df\n",
        "#data_clean = clean_text(df, 'sentence', 'new_sentence')\n",
        "#data_clean.head()"
      ],
      "metadata": {
        "id": "Gc1fVUC4ggpr"
      },
      "execution_count": null,
      "outputs": []
    },
    {
      "cell_type": "markdown",
      "source": [
        "## Normalization"
      ],
      "metadata": {
        "id": "luXyJ0vjgoJN"
      }
    },
    {
      "cell_type": "code",
      "source": [
        "############################# NORMALIZATION  ##############################\n",
        "#import re\n",
        "#def  clean_text(df, sentence, new_sentence):\n",
        "    #df['new_sentence'] = df['sentence'].str.lower()\n",
        "    # remove special signs\n",
        "    #df['new_sentence'] = df['new_sentence'].apply(lambda elem: re.sub(r\"(@[A-Za-z0-9]+)|([^0-9A-Za-z \\t])|(\\w+:\\/\\/\\S+)|^rt|http.+?\", \"\", elem))  \n",
        "    # remove numbers\n",
        "    #df['new_sentence'] = df['new_sentence'].apply(lambda elem: re.sub(r\"\\d+\", \"\", elem))\n",
        "    \n",
        "    #return df\n",
        "#data_clean = clean_text(df, 'sentence', 'new_sentence')\n",
        "#data_clean.head()"
      ],
      "metadata": {
        "id": "TVJMMWpbgrye"
      },
      "execution_count": null,
      "outputs": []
    },
    {
      "cell_type": "markdown",
      "source": [
        "# Stemming "
      ],
      "metadata": {
        "id": "82afT4D2LkBY"
      }
    },
    {
      "cell_type": "code",
      "source": [
        "df['stemmed'] = df['unstemmed'].apply(lambda x: [stemmer.stem(y) for y in x]) # Stem every word.\n",
        "df = df.drop(columns=['unstemmed']) # Get rid of the unstemmed column.\n",
        "df # Print dataframe."
      ],
      "metadata": {
        "colab": {
          "base_uri": "https://localhost:8080/",
          "height": 494
        },
        "id": "NJfoB05Xbdvo",
        "outputId": "b613c286-5493-41d0-9fdf-9b71f4167fb1"
      },
      "execution_count": null,
      "outputs": [
        {
          "output_type": "error",
          "ename": "KeyError",
          "evalue": "ignored",
          "traceback": [
            "\u001b[0;31m---------------------------------------------------------------------------\u001b[0m",
            "\u001b[0;31mKeyError\u001b[0m                                  Traceback (most recent call last)",
            "\u001b[0;32m/usr/local/lib/python3.8/dist-packages/pandas/core/indexes/base.py\u001b[0m in \u001b[0;36mget_loc\u001b[0;34m(self, key, method, tolerance)\u001b[0m\n\u001b[1;32m   3360\u001b[0m             \u001b[0;32mtry\u001b[0m\u001b[0;34m:\u001b[0m\u001b[0;34m\u001b[0m\u001b[0;34m\u001b[0m\u001b[0m\n\u001b[0;32m-> 3361\u001b[0;31m                 \u001b[0;32mreturn\u001b[0m \u001b[0mself\u001b[0m\u001b[0;34m.\u001b[0m\u001b[0m_engine\u001b[0m\u001b[0;34m.\u001b[0m\u001b[0mget_loc\u001b[0m\u001b[0;34m(\u001b[0m\u001b[0mcasted_key\u001b[0m\u001b[0;34m)\u001b[0m\u001b[0;34m\u001b[0m\u001b[0;34m\u001b[0m\u001b[0m\n\u001b[0m\u001b[1;32m   3362\u001b[0m             \u001b[0;32mexcept\u001b[0m \u001b[0mKeyError\u001b[0m \u001b[0;32mas\u001b[0m \u001b[0merr\u001b[0m\u001b[0;34m:\u001b[0m\u001b[0;34m\u001b[0m\u001b[0;34m\u001b[0m\u001b[0m\n",
            "\u001b[0;32m/usr/local/lib/python3.8/dist-packages/pandas/_libs/index.pyx\u001b[0m in \u001b[0;36mpandas._libs.index.IndexEngine.get_loc\u001b[0;34m()\u001b[0m\n",
            "\u001b[0;32m/usr/local/lib/python3.8/dist-packages/pandas/_libs/index.pyx\u001b[0m in \u001b[0;36mpandas._libs.index.IndexEngine.get_loc\u001b[0;34m()\u001b[0m\n",
            "\u001b[0;32mpandas/_libs/hashtable_class_helper.pxi\u001b[0m in \u001b[0;36mpandas._libs.hashtable.PyObjectHashTable.get_item\u001b[0;34m()\u001b[0m\n",
            "\u001b[0;32mpandas/_libs/hashtable_class_helper.pxi\u001b[0m in \u001b[0;36mpandas._libs.hashtable.PyObjectHashTable.get_item\u001b[0;34m()\u001b[0m\n",
            "\u001b[0;31mKeyError\u001b[0m: 'unstemmed'",
            "\nThe above exception was the direct cause of the following exception:\n",
            "\u001b[0;31mKeyError\u001b[0m                                  Traceback (most recent call last)",
            "\u001b[0;32m<ipython-input-111-4359935898c6>\u001b[0m in \u001b[0;36m<module>\u001b[0;34m\u001b[0m\n\u001b[0;32m----> 1\u001b[0;31m \u001b[0mdf\u001b[0m\u001b[0;34m[\u001b[0m\u001b[0;34m'stemmed'\u001b[0m\u001b[0;34m]\u001b[0m \u001b[0;34m=\u001b[0m \u001b[0mdf\u001b[0m\u001b[0;34m[\u001b[0m\u001b[0;34m'unstemmed'\u001b[0m\u001b[0;34m]\u001b[0m\u001b[0;34m.\u001b[0m\u001b[0mapply\u001b[0m\u001b[0;34m(\u001b[0m\u001b[0;32mlambda\u001b[0m \u001b[0mx\u001b[0m\u001b[0;34m:\u001b[0m \u001b[0;34m[\u001b[0m\u001b[0mstemmer\u001b[0m\u001b[0;34m.\u001b[0m\u001b[0mstem\u001b[0m\u001b[0;34m(\u001b[0m\u001b[0my\u001b[0m\u001b[0;34m)\u001b[0m \u001b[0;32mfor\u001b[0m \u001b[0my\u001b[0m \u001b[0;32min\u001b[0m \u001b[0mx\u001b[0m\u001b[0;34m]\u001b[0m\u001b[0;34m)\u001b[0m \u001b[0;31m# Stem every word.\u001b[0m\u001b[0;34m\u001b[0m\u001b[0;34m\u001b[0m\u001b[0m\n\u001b[0m\u001b[1;32m      2\u001b[0m \u001b[0mdf\u001b[0m \u001b[0;34m=\u001b[0m \u001b[0mdf\u001b[0m\u001b[0;34m.\u001b[0m\u001b[0mdrop\u001b[0m\u001b[0;34m(\u001b[0m\u001b[0mcolumns\u001b[0m\u001b[0;34m=\u001b[0m\u001b[0;34m[\u001b[0m\u001b[0;34m'unstemmed'\u001b[0m\u001b[0;34m]\u001b[0m\u001b[0;34m)\u001b[0m \u001b[0;31m# Get rid of the unstemmed column.\u001b[0m\u001b[0;34m\u001b[0m\u001b[0;34m\u001b[0m\u001b[0m\n\u001b[1;32m      3\u001b[0m \u001b[0mdf\u001b[0m \u001b[0;31m# Print dataframe.\u001b[0m\u001b[0;34m\u001b[0m\u001b[0;34m\u001b[0m\u001b[0m\n",
            "\u001b[0;32m/usr/local/lib/python3.8/dist-packages/pandas/core/frame.py\u001b[0m in \u001b[0;36m__getitem__\u001b[0;34m(self, key)\u001b[0m\n\u001b[1;32m   3456\u001b[0m             \u001b[0;32mif\u001b[0m \u001b[0mself\u001b[0m\u001b[0;34m.\u001b[0m\u001b[0mcolumns\u001b[0m\u001b[0;34m.\u001b[0m\u001b[0mnlevels\u001b[0m \u001b[0;34m>\u001b[0m \u001b[0;36m1\u001b[0m\u001b[0;34m:\u001b[0m\u001b[0;34m\u001b[0m\u001b[0;34m\u001b[0m\u001b[0m\n\u001b[1;32m   3457\u001b[0m                 \u001b[0;32mreturn\u001b[0m \u001b[0mself\u001b[0m\u001b[0;34m.\u001b[0m\u001b[0m_getitem_multilevel\u001b[0m\u001b[0;34m(\u001b[0m\u001b[0mkey\u001b[0m\u001b[0;34m)\u001b[0m\u001b[0;34m\u001b[0m\u001b[0;34m\u001b[0m\u001b[0m\n\u001b[0;32m-> 3458\u001b[0;31m             \u001b[0mindexer\u001b[0m \u001b[0;34m=\u001b[0m \u001b[0mself\u001b[0m\u001b[0;34m.\u001b[0m\u001b[0mcolumns\u001b[0m\u001b[0;34m.\u001b[0m\u001b[0mget_loc\u001b[0m\u001b[0;34m(\u001b[0m\u001b[0mkey\u001b[0m\u001b[0;34m)\u001b[0m\u001b[0;34m\u001b[0m\u001b[0;34m\u001b[0m\u001b[0m\n\u001b[0m\u001b[1;32m   3459\u001b[0m             \u001b[0;32mif\u001b[0m \u001b[0mis_integer\u001b[0m\u001b[0;34m(\u001b[0m\u001b[0mindexer\u001b[0m\u001b[0;34m)\u001b[0m\u001b[0;34m:\u001b[0m\u001b[0;34m\u001b[0m\u001b[0;34m\u001b[0m\u001b[0m\n\u001b[1;32m   3460\u001b[0m                 \u001b[0mindexer\u001b[0m \u001b[0;34m=\u001b[0m \u001b[0;34m[\u001b[0m\u001b[0mindexer\u001b[0m\u001b[0;34m]\u001b[0m\u001b[0;34m\u001b[0m\u001b[0;34m\u001b[0m\u001b[0m\n",
            "\u001b[0;32m/usr/local/lib/python3.8/dist-packages/pandas/core/indexes/base.py\u001b[0m in \u001b[0;36mget_loc\u001b[0;34m(self, key, method, tolerance)\u001b[0m\n\u001b[1;32m   3361\u001b[0m                 \u001b[0;32mreturn\u001b[0m \u001b[0mself\u001b[0m\u001b[0;34m.\u001b[0m\u001b[0m_engine\u001b[0m\u001b[0;34m.\u001b[0m\u001b[0mget_loc\u001b[0m\u001b[0;34m(\u001b[0m\u001b[0mcasted_key\u001b[0m\u001b[0;34m)\u001b[0m\u001b[0;34m\u001b[0m\u001b[0;34m\u001b[0m\u001b[0m\n\u001b[1;32m   3362\u001b[0m             \u001b[0;32mexcept\u001b[0m \u001b[0mKeyError\u001b[0m \u001b[0;32mas\u001b[0m \u001b[0merr\u001b[0m\u001b[0;34m:\u001b[0m\u001b[0;34m\u001b[0m\u001b[0;34m\u001b[0m\u001b[0m\n\u001b[0;32m-> 3363\u001b[0;31m                 \u001b[0;32mraise\u001b[0m \u001b[0mKeyError\u001b[0m\u001b[0;34m(\u001b[0m\u001b[0mkey\u001b[0m\u001b[0;34m)\u001b[0m \u001b[0;32mfrom\u001b[0m \u001b[0merr\u001b[0m\u001b[0;34m\u001b[0m\u001b[0;34m\u001b[0m\u001b[0m\n\u001b[0m\u001b[1;32m   3364\u001b[0m \u001b[0;34m\u001b[0m\u001b[0m\n\u001b[1;32m   3365\u001b[0m         \u001b[0;32mif\u001b[0m \u001b[0mis_scalar\u001b[0m\u001b[0;34m(\u001b[0m\u001b[0mkey\u001b[0m\u001b[0;34m)\u001b[0m \u001b[0;32mand\u001b[0m \u001b[0misna\u001b[0m\u001b[0;34m(\u001b[0m\u001b[0mkey\u001b[0m\u001b[0;34m)\u001b[0m \u001b[0;32mand\u001b[0m \u001b[0;32mnot\u001b[0m \u001b[0mself\u001b[0m\u001b[0;34m.\u001b[0m\u001b[0mhasnans\u001b[0m\u001b[0;34m:\u001b[0m\u001b[0;34m\u001b[0m\u001b[0;34m\u001b[0m\u001b[0m\n",
            "\u001b[0;31mKeyError\u001b[0m: 'unstemmed'"
          ]
        }
      ]
    },
    {
      "cell_type": "markdown",
      "source": [
        "#Lemmanization"
      ],
      "metadata": {
        "id": "xvEIVeFgbTPu"
      }
    },
    {
      "cell_type": "markdown",
      "source": [
        "#STOPWORDS"
      ],
      "metadata": {
        "id": "LLL5xKVCTDvP"
      }
    },
    {
      "cell_type": "code",
      "source": [
        "################################    STOPWORDS   #####################\n",
        "#import nltk.corpus\n",
        "#nltk.download('stopwords')\n",
        "#from nltk.corpus import stopwords\n",
        "#stop = stopwords.words('french')\n",
        "#df['sentence_Tokenized'] = df['sentence_Tokenized'].apply(lambda x: ' '.join([word for word in x.split() if word not in (stop)]))\n",
        "#data_clean.head()"
      ],
      "metadata": {
        "id": "DgTNWR6CbZUl"
      },
      "execution_count": null,
      "outputs": []
    },
    {
      "cell_type": "code",
      "source": [
        "#Import dependencies\n",
        "import pandas as pd\n",
        "import sqlite3\n",
        "import texthero as hero\n",
        "from texthero import preprocessing\n",
        "custom_pipeline = [preprocessing.fillna,\n",
        "                   #preprocessing.lowercase,\n",
        "                   preprocessing.remove_whitespace,\n",
        "                   preprocessing.remove_diacritics\n",
        "                   #preprocessing.remove_brackets\n",
        "                  ]\n",
        "df['cleaned_sentence'] = hero.clean(df['sentence'], custom_pipeline)\n",
        "df['cleaned_sentence'] = [n.replace('{','') for n in df['cleaned_sentence']]\n",
        "df['cleaned_sentence'] = [n.replace('}','') for n in df['cleaned_sentence']]\n",
        "df['cleaned_sentence'] = [n.replace('(','') for n in df['cleaned_sentence']]\n",
        "df['cleaned_sentence'] = [n.replace(')','') for n in df['cleaned_sentence']]"
      ],
      "metadata": {
        "id": "gYTcd8uVjSgv"
      },
      "execution_count": null,
      "outputs": []
    }
  ],
  "metadata": {
    "colab": {
      "provenance": []
    },
    "gpuClass": "standard",
    "kernelspec": {
      "display_name": "Python 3",
      "name": "python3"
    },
    "language_info": {
      "name": "python"
    }
  },
  "nbformat": 4,
  "nbformat_minor": 0
}